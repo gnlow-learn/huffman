{
 "cells": [
  {
   "cell_type": "markdown",
   "metadata": {},
   "source": [
    "# Huffman Coding"
   ]
  },
  {
   "cell_type": "markdown",
   "metadata": {},
   "source": [
    "## Zipfian"
   ]
  },
  {
   "cell_type": "code",
   "execution_count": 29,
   "metadata": {},
   "outputs": [
    {
     "name": "stdout",
     "output_type": "stream",
     "text": [
      "3.3548706288569887\n",
      "3\n"
     ]
    }
   ],
   "source": [
    "const zipf = Array.from({ length: 8 }, (_, i) =>\n",
    "    1/(i+1)\n",
    ")\n",
    "const uniform = Array.from({ length: 8 }, _ => 1)\n",
    "\n",
    "const entropy =\n",
    "(system: number[]) => {\n",
    "    const sum = system.reduce((a, b) => a + b)\n",
    "    return -system\n",
    "            .map(n => n / sum)\n",
    "            .map(p => p * Math.log2(p))\n",
    "            .reduce((a, b) => a + b)\n",
    "            / system.length\n",
    "}\n",
    "\n",
    "console.log(entropy(zipf))\n",
    "console.log(entropy(uniform))"
   ]
  },
  {
   "cell_type": "code",
   "execution_count": null,
   "metadata": {},
   "outputs": [],
   "source": [
    "zipf"
   ]
  }
 ],
 "metadata": {
  "kernelspec": {
   "display_name": "Deno",
   "language": "typescript",
   "name": "deno"
  },
  "language_info": {
   "codemirror_mode": "typescript",
   "file_extension": ".ts",
   "mimetype": "text/x.typescript",
   "name": "typescript",
   "nbconvert_exporter": "script",
   "pygments_lexer": "typescript",
   "version": "5.6.2"
  }
 },
 "nbformat": 4,
 "nbformat_minor": 2
}
